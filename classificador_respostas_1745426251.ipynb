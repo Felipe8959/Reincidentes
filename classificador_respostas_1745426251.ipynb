{
 "cells": [
  {
   "cell_type": "markdown",
   "id": "ccd06ea1",
   "metadata": {},
   "source": [
    "# Demo notebook\n",
    "Este é um notebook de exemplo."
   ]
  },
  {
   "cell_type": "code",
   "execution_count": null,
   "id": "ab1b2575",
   "metadata": {},
   "outputs": [],
   "source": [
    "print('Hello, notebook!')"
   ]
  }
 ],
 "metadata": {},
 "nbformat": 4,
 "nbformat_minor": 5
}
