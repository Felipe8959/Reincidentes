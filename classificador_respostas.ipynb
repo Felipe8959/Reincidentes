{
 "cells": [
  {
   "cell_type": "markdown",
   "id": "d4cd53ab",
   "metadata": {},
   "source": [
    "# Classificador de Respostas de Atendimento\n",
    "Notebook completo para treinar um modelo BERTimbau que determina se a **resposta do analista** é *completa* ou *incompleta* levando em conta o texto da **manifestação do cliente**.\n",
    "\n",
    "**Pré‑requisitos**  \n",
    "- Python 3.8+  \n",
    "- GPU (opcional, mas recomendado)  \n",
    "- Pacotes: `transformers`, `datasets`, `scikit-learn`, `pandas`, `torch`\n",
    "\n",
    "Ajuste os caminhos dos arquivos conforme necessário."
   ]
  },
  {
   "cell_type": "code",
   "execution_count": null,
   "id": "9191a2b2",
   "metadata": {},
   "outputs": [],
   "source": [
    "# Se necessário, descomente para instalar dependências\n",
    "# !pip install transformers datasets scikit-learn pandas torch --upgrade\n"
   ]
  },
  {
   "cell_type": "code",
   "execution_count": null,
   "id": "3f7c7953",
   "metadata": {},
   "outputs": [],
   "source": [
    "import pandas as pd\n",
    "from datasets import Dataset\n",
    "from transformers import BertTokenizerFast, BertForSequenceClassification, Trainer, TrainingArguments\n",
    "from sklearn.model_selection import train_test_split\n",
    "from sklearn.metrics import classification_report, confusion_matrix\n",
    "import torch, joblib, os, json"
   ]
  },
  {
   "cell_type": "markdown",
   "id": "7353cbe9",
   "metadata": {},
   "source": [
    "## Carregar a base de dados"
   ]
  },
  {
   "cell_type": "code",
   "execution_count": null,
   "id": "60261bba",
   "metadata": {},
   "outputs": [],
   "source": [
    "# Substitua pelo caminho do seu CSV\n",
    "DATA_PATH = 'base_respostas.csv'  # ex.: '/content/drive/MyDrive/base_respostas.csv'\n",
    "\n",
    "df = pd.read_csv(DATA_PATH)\n",
    "\n",
    "# Espera colunas: 'manifestacao', 'resposta', 'classificacao'\n",
    "df.head()"
   ]
  },
  {
   "cell_type": "markdown",
   "id": "743afcdf",
   "metadata": {},
   "source": [
    "## Pré‑processamento"
   ]
  },
  {
   "cell_type": "code",
   "execution_count": null,
   "id": "5a2d3b77",
   "metadata": {},
   "outputs": [],
   "source": [
    "# Converter NaNs para string vazia e criar coluna pareada\n",
    "df['manifestacao'] = df['manifestacao'].fillna('')\n",
    "df['resposta']     = df['resposta'].fillna('')\n",
    "df['pair'] = df['manifestacao'] + ' [SEP] ' + df['resposta']\n",
    "\n",
    "# Converter target para numérico: 'resposta completa' -> 1, outras -> 0\n",
    "df['label'] = (df['classificacao'].str.lower().str.contains('completa')).astype(int)\n",
    "\n",
    "df[['manifestacao','resposta','label']].head()"
   ]
  },
  {
   "cell_type": "markdown",
   "id": "662f432e",
   "metadata": {},
   "source": [
    "## Separar treino e teste"
   ]
  },
  {
   "cell_type": "code",
   "execution_count": null,
   "id": "008e5bee",
   "metadata": {},
   "outputs": [],
   "source": [
    "train_df, test_df = train_test_split(df[['pair','label']],\n",
    "                               test_size=0.2,\n",
    "                               stratify=df['label'],\n",
    "                               random_state=42)\n",
    "\n",
    "len(train_df), len(test_df)"
   ]
  },
  {
   "cell_type": "markdown",
   "id": "4b35b2d2",
   "metadata": {},
   "source": [
    "## Tokenizar com BERTimbau"
   ]
  },
  {
   "cell_type": "code",
   "execution_count": null,
   "id": "0687ce9e",
   "metadata": {},
   "outputs": [],
   "source": [
    "MODEL_NAME = 'neuralmind/bert-base-portuguese-cased'\n",
    "tokenizer = BertTokenizerFast.from_pretrained(MODEL_NAME)\n",
    "\n",
    "def tokenize(batch):\n",
    "    return tokenizer(batch['pair'],\n",
    "                     truncation=True,\n",
    "                     padding='max_length',\n",
    "                     max_length=256)\n",
    "\n",
    "train_ds = Dataset.from_pandas(train_df).map(tokenize, batched=True)\n",
    "test_ds  = Dataset.from_pandas(test_df).map(tokenize, batched=True)\n",
    "\n",
    "# Remover colunas redundantes para economizar memória\n",
    "cols = ['pair']\n",
    "train_ds = train_ds.remove_columns(cols)\n",
    "test_ds  = test_ds.remove_columns(cols)\n",
    "\n",
    "train_ds, test_ds"
   ]
  },
  {
   "cell_type": "markdown",
   "id": "a970fd20",
   "metadata": {},
   "source": [
    "## Treinar o modelo"
   ]
  },
  {
   "cell_type": "code",
   "execution_count": null,
   "id": "18924c66",
   "metadata": {},
   "outputs": [],
   "source": [
    "model = BertForSequenceClassification.from_pretrained(MODEL_NAME, num_labels=2)\n",
    "\n",
    "training_args = TrainingArguments(\n",
    "    output_dir='bert_respostas',\n",
    "    learning_rate=2e-5,\n",
    "    per_device_train_batch_size=8,\n",
    "    per_device_eval_batch_size=8,\n",
    "    num_train_epochs=3,\n",
    "    weight_decay=0.01,\n",
    "    evaluation_strategy='epoch',\n",
    "    logging_strategy='epoch',\n",
    "    save_strategy='epoch',\n",
    "    load_best_model_at_end=True,\n",
    "    metric_for_best_model='eval_loss'\n",
    ")\n",
    "\n",
    "trainer = Trainer(\n",
    "    model=model,\n",
    "    args=training_args,\n",
    "    train_dataset=train_ds,\n",
    "    eval_dataset=test_ds\n",
    ")\n",
    "\n",
    "trainer.train()"
   ]
  },
  {
   "cell_type": "markdown",
   "id": "a07d1d2a",
   "metadata": {},
   "source": [
    "## Avaliação"
   ]
  },
  {
   "cell_type": "code",
   "execution_count": null,
   "id": "644a4a99",
   "metadata": {},
   "outputs": [],
   "source": [
    "preds = trainer.predict(test_ds)\n",
    "y_true = preds.label_ids\n",
    "y_pred = preds.predictions.argmax(axis=-1)\n",
    "\n",
    "print(classification_report(y_true, y_pred, target_names=['incompleta','completa']))\n",
    "print('Matriz de confusão:\\n', confusion_matrix(y_true, y_pred))"
   ]
  },
  {
   "cell_type": "markdown",
   "id": "8b61714d",
   "metadata": {},
   "source": [
    "## Salvar modelo e tokenizer"
   ]
  },
  {
   "cell_type": "code",
   "execution_count": null,
   "id": "19e235a9",
   "metadata": {},
   "outputs": [],
   "source": [
    "SAVE_DIR = 'modelo_resposta_completa'\n",
    "trainer.save_model(SAVE_DIR)\n",
    "tokenizer.save_pretrained(SAVE_DIR)\n",
    "\n",
    "# Também salvar como joblib para integração mais leve\n",
    "joblib.dump({'model_path': SAVE_DIR}, 'config_modelo.joblib')\n",
    "print(f'Modelo salvo em {SAVE_DIR}')"
   ]
  },
  {
   "cell_type": "markdown",
   "id": "cc559287",
   "metadata": {},
   "source": [
    "## Função de inferência"
   ]
  },
  {
   "cell_type": "code",
   "execution_count": null,
   "id": "70d00a32",
   "metadata": {},
   "outputs": [],
   "source": [
    "def classificar_resposta(manifestacao: str, resposta: str, model_dir: str = SAVE_DIR):\n",
    "    device = 'cuda' if torch.cuda.is_available() else 'cpu'\n",
    "    model = BertForSequenceClassification.from_pretrained(model_dir).to(device)\n",
    "    tokenizer = BertTokenizerFast.from_pretrained(model_dir)\n",
    "    texto = manifestacao + ' [SEP] ' + resposta\n",
    "    inputs = tokenizer(texto, return_tensors='pt', truncation=True, padding='max_length', max_length=256)\n",
    "    inputs = {k: v.to(device) for k, v in inputs.items()}\n",
    "    with torch.no_grad():\n",
    "        outputs = model(**inputs)\n",
    "        probas = torch.softmax(outputs.logits, dim=-1).cpu().numpy()[0]\n",
    "    classe = 'resposta completa' if probas[1] > probas[0] else 'resposta incompleta'\n",
    "    return classe, probas\n",
    "\n",
    "# Exemplo rápido\n",
    "ex_manifestacao = \"\"\"O boleto está vencido e não consigo gerar outro.\"\"\"\n",
    "ex_resposta = \"\"\"Entramos em contato por e‑mail e enviamos a 2ª via do boleto, com novo vencimento em 10/07/2025. Caso precise de outra data, estamos à disposição.\"\"\"\n",
    "classe, probas = classificar_resposta(ex_manifestacao, ex_resposta)\n",
    "print(classe, probas)"
   ]
  }
 ],
 "metadata": {},
 "nbformat": 4,
 "nbformat_minor": 5
}
